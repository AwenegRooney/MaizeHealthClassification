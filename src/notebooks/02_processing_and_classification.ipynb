{
 "cells": [
  {
   "cell_type": "code",
   "execution_count": 79,
   "metadata": {},
   "outputs": [],
   "source": [
    "import numpy as np\n",
    "import pandas as pd\n",
    "import matplotlib.pyplot as plt\n",
    "import seaborn as sns"
   ]
  },
  {
   "cell_type": "code",
   "execution_count": 80,
   "metadata": {},
   "outputs": [
    {
     "data": {
      "text/plain": [
       "(56240, 15)"
      ]
     },
     "execution_count": 80,
     "metadata": {},
     "output_type": "execute_result"
    }
   ],
   "source": [
    "#Loading datasets\n",
    "df_us = pd.read_csv('../../data/raw/GEE_Maize_Data_us_cornbelt.csv')\n",
    "df_argen = pd.read_csv('../../data/raw/GEE_Maize_Data_argentina_pampas.csv')\n",
    "df_brazil = pd.read_csv('../../data/raw/GEE_Maize_Data_brazil_mato_grosso.csv')\n",
    "df_india = pd.read_csv('../../data/raw/GEE_Maize_Data_india_uttar_pradesh.csv')\n",
    "\n",
    "#merging the datasets together\n",
    "df = pd.concat([df_argen, df_brazil, df_us, df_india])\n",
    "df.shape"
   ]
  },
  {
   "cell_type": "code",
   "execution_count": 81,
   "metadata": {},
   "outputs": [
    {
     "name": "stdout",
     "output_type": "stream",
     "text": [
      "<class 'pandas.core.frame.DataFrame'>\n",
      "Index: 56240 entries, 0 to 20071\n",
      "Data columns (total 15 columns):\n",
      " #   Column        Non-Null Count  Dtype  \n",
      "---  ------        --------------  -----  \n",
      " 0   system:index  56240 non-null  object \n",
      " 1   B11           56240 non-null  int64  \n",
      " 2   B12           56240 non-null  int64  \n",
      " 3   B2            56240 non-null  int64  \n",
      " 4   B3            56240 non-null  int64  \n",
      " 5   B4            56240 non-null  int64  \n",
      " 6   B5            56240 non-null  int64  \n",
      " 7   B8            56240 non-null  int64  \n",
      " 8   EVI           56240 non-null  float64\n",
      " 9   GNDVI         56240 non-null  float64\n",
      " 10  NDRE          56240 non-null  float64\n",
      " 11  NDVI          56240 non-null  float64\n",
      " 12  SAVI          56240 non-null  float64\n",
      " 13  date          56240 non-null  float64\n",
      " 14  .geo          56240 non-null  object \n",
      "dtypes: float64(6), int64(7), object(2)\n",
      "memory usage: 6.9+ MB\n"
     ]
    }
   ],
   "source": [
    "df.info()"
   ]
  },
  {
   "cell_type": "code",
   "execution_count": 82,
   "metadata": {},
   "outputs": [],
   "source": [
    "# Clean up columns and convert date\n",
    "df = df.rename(columns={'system:index': 'system_index', '.geo': 'geometry'})\n",
    "df['date'] = pd.to_datetime(df['date'], unit='ms')\n",
    "\n",
    "# Calculating some more indices\n",
    "df['NDMI'] = (df['B8'] - df['B11']) / (df['B8'] + df['B11'])\n",
    "df['MSAVI'] = ((2 * df['B8'] + 1) - np.sqrt(np.pow((2 * df['B8'] + 1), 2) - 8 * (df['B8'] - df['B4']))) / 2"
   ]
  },
  {
   "cell_type": "code",
   "execution_count": 83,
   "metadata": {},
   "outputs": [],
   "source": [
    "# Filteringout invalid points\n",
    "modified_df = df[df['NDVI'] > 0]"
   ]
  },
  {
   "cell_type": "code",
   "execution_count": 84,
   "metadata": {},
   "outputs": [
    {
     "data": {
      "application/vnd.microsoft.datawrangler.viewer.v0+json": {
       "columns": [
        {
         "name": "geometry",
         "rawType": "object",
         "type": "string"
        },
        {
         "name": "B8",
         "rawType": "float64",
         "type": "float"
        },
        {
         "name": "B11",
         "rawType": "float64",
         "type": "float"
        },
        {
         "name": "B12",
         "rawType": "float64",
         "type": "float"
        },
        {
         "name": "B2",
         "rawType": "float64",
         "type": "float"
        },
        {
         "name": "B3",
         "rawType": "float64",
         "type": "float"
        },
        {
         "name": "B4",
         "rawType": "float64",
         "type": "float"
        },
        {
         "name": "B5",
         "rawType": "float64",
         "type": "float"
        },
        {
         "name": "EVI",
         "rawType": "float64",
         "type": "float"
        },
        {
         "name": "GNDVI",
         "rawType": "float64",
         "type": "float"
        },
        {
         "name": "NDRE",
         "rawType": "float64",
         "type": "float"
        },
        {
         "name": "NDVI",
         "rawType": "float64",
         "type": "float"
        },
        {
         "name": "SAVI",
         "rawType": "float64",
         "type": "float"
        },
        {
         "name": "MSAVI",
         "rawType": "float64",
         "type": "float"
        },
        {
         "name": "NDMI",
         "rawType": "float64",
         "type": "float"
        }
       ],
       "ref": "17ae3b39-21af-4298-93fb-745a2effdf9c",
       "rows": [
        [
         "{\"geodesic\":false,\"type\":\"Point\",\"coordinates\":[-55.99975724605936,-10.036863316938634]}",
         "2592.76",
         "3597.02",
         "2211.08",
         "565.82",
         "831.26",
         "1011.18",
         "1459.94",
         "0.9770909583771974",
         "0.5118520881999999",
         "0.27544380220000003",
         "0.4349720912",
         "0.6523673499511049",
         "0.5978063646487408",
         "-0.1629967340708625"
        ],
        [
         "{\"geodesic\":false,\"type\":\"Point\",\"coordinates\":[-56.002039654992814,-10.036418029640528]}",
         "2693.46",
         "3724.58",
         "2340.06",
         "761.14",
         "1010.96",
         "1165.26",
         "1671.14",
         "0.8730512527466685",
         "0.4899820952",
         "0.2489995734",
         "0.42368802190000004",
         "0.6354425773374445",
         "0.5828527997345554",
         "-0.16696500030991118"
        ],
        [
         "{\"geodesic\":false,\"type\":\"Point\",\"coordinates\":[-56.002770412335906,-10.036148929791462]}",
         "2629.76",
         "3620.94",
         "2255.34",
         "710.68",
         "962.26",
         "1115.38",
         "1593.1",
         "0.8331175864581628",
         "0.4909729565",
         "0.2560157069",
         "0.4244213952",
         "0.6365414796550354",
         "0.5848073196715632",
         "-0.1634597697692898"
        ],
        [
         "{\"geodesic\":false,\"type\":\"Point\",\"coordinates\":[-56.003043858077234,-10.036240184411483]}",
         "2753.8",
         "3963.36",
         "2566.1",
         "788.38",
         "1084.22",
         "1356.28",
         "1840.86",
         "0.6210625927400371",
         "0.46115476392",
         "0.20932526312",
         "0.3572909287",
         "0.5358669757043145",
         "0.5174065746744054",
         "-0.18323972918914727"
        ],
        [
         "{\"geodesic\":false,\"type\":\"Point\",\"coordinates\":[-56.005687359815894,-10.037062013625198]}",
         "2471.68",
         "3624.88",
         "2296.38",
         "615.58",
         "869.4",
         "1127.14",
         "1560.66",
         "0.8101010691130591",
         "0.4782093418",
         "0.22500951",
         "0.3750690364",
         "0.562524785117849",
         "0.5365546145155168",
         "-0.18507078913092784"
        ]
       ],
       "shape": {
        "columns": 14,
        "rows": 5
       }
      },
      "text/html": [
       "<div>\n",
       "<style scoped>\n",
       "    .dataframe tbody tr th:only-of-type {\n",
       "        vertical-align: middle;\n",
       "    }\n",
       "\n",
       "    .dataframe tbody tr th {\n",
       "        vertical-align: top;\n",
       "    }\n",
       "\n",
       "    .dataframe thead th {\n",
       "        text-align: right;\n",
       "    }\n",
       "</style>\n",
       "<table border=\"1\" class=\"dataframe\">\n",
       "  <thead>\n",
       "    <tr style=\"text-align: right;\">\n",
       "      <th></th>\n",
       "      <th>B8</th>\n",
       "      <th>B11</th>\n",
       "      <th>B12</th>\n",
       "      <th>B2</th>\n",
       "      <th>B3</th>\n",
       "      <th>B4</th>\n",
       "      <th>B5</th>\n",
       "      <th>EVI</th>\n",
       "      <th>GNDVI</th>\n",
       "      <th>NDRE</th>\n",
       "      <th>NDVI</th>\n",
       "      <th>SAVI</th>\n",
       "      <th>MSAVI</th>\n",
       "      <th>NDMI</th>\n",
       "    </tr>\n",
       "    <tr>\n",
       "      <th>geometry</th>\n",
       "      <th></th>\n",
       "      <th></th>\n",
       "      <th></th>\n",
       "      <th></th>\n",
       "      <th></th>\n",
       "      <th></th>\n",
       "      <th></th>\n",
       "      <th></th>\n",
       "      <th></th>\n",
       "      <th></th>\n",
       "      <th></th>\n",
       "      <th></th>\n",
       "      <th></th>\n",
       "      <th></th>\n",
       "    </tr>\n",
       "  </thead>\n",
       "  <tbody>\n",
       "    <tr>\n",
       "      <th>{\"geodesic\":false,\"type\":\"Point\",\"coordinates\":[-55.99975724605936,-10.036863316938634]}</th>\n",
       "      <td>2592.76</td>\n",
       "      <td>3597.02</td>\n",
       "      <td>2211.08</td>\n",
       "      <td>565.82</td>\n",
       "      <td>831.26</td>\n",
       "      <td>1011.18</td>\n",
       "      <td>1459.94</td>\n",
       "      <td>0.977091</td>\n",
       "      <td>0.511852</td>\n",
       "      <td>0.275444</td>\n",
       "      <td>0.434972</td>\n",
       "      <td>0.652367</td>\n",
       "      <td>0.597806</td>\n",
       "      <td>-0.162997</td>\n",
       "    </tr>\n",
       "    <tr>\n",
       "      <th>{\"geodesic\":false,\"type\":\"Point\",\"coordinates\":[-56.002039654992814,-10.036418029640528]}</th>\n",
       "      <td>2693.46</td>\n",
       "      <td>3724.58</td>\n",
       "      <td>2340.06</td>\n",
       "      <td>761.14</td>\n",
       "      <td>1010.96</td>\n",
       "      <td>1165.26</td>\n",
       "      <td>1671.14</td>\n",
       "      <td>0.873051</td>\n",
       "      <td>0.489982</td>\n",
       "      <td>0.249000</td>\n",
       "      <td>0.423688</td>\n",
       "      <td>0.635443</td>\n",
       "      <td>0.582853</td>\n",
       "      <td>-0.166965</td>\n",
       "    </tr>\n",
       "    <tr>\n",
       "      <th>{\"geodesic\":false,\"type\":\"Point\",\"coordinates\":[-56.002770412335906,-10.036148929791462]}</th>\n",
       "      <td>2629.76</td>\n",
       "      <td>3620.94</td>\n",
       "      <td>2255.34</td>\n",
       "      <td>710.68</td>\n",
       "      <td>962.26</td>\n",
       "      <td>1115.38</td>\n",
       "      <td>1593.10</td>\n",
       "      <td>0.833118</td>\n",
       "      <td>0.490973</td>\n",
       "      <td>0.256016</td>\n",
       "      <td>0.424421</td>\n",
       "      <td>0.636541</td>\n",
       "      <td>0.584807</td>\n",
       "      <td>-0.163460</td>\n",
       "    </tr>\n",
       "    <tr>\n",
       "      <th>{\"geodesic\":false,\"type\":\"Point\",\"coordinates\":[-56.003043858077234,-10.036240184411483]}</th>\n",
       "      <td>2753.80</td>\n",
       "      <td>3963.36</td>\n",
       "      <td>2566.10</td>\n",
       "      <td>788.38</td>\n",
       "      <td>1084.22</td>\n",
       "      <td>1356.28</td>\n",
       "      <td>1840.86</td>\n",
       "      <td>0.621063</td>\n",
       "      <td>0.461155</td>\n",
       "      <td>0.209325</td>\n",
       "      <td>0.357291</td>\n",
       "      <td>0.535867</td>\n",
       "      <td>0.517407</td>\n",
       "      <td>-0.183240</td>\n",
       "    </tr>\n",
       "    <tr>\n",
       "      <th>{\"geodesic\":false,\"type\":\"Point\",\"coordinates\":[-56.005687359815894,-10.037062013625198]}</th>\n",
       "      <td>2471.68</td>\n",
       "      <td>3624.88</td>\n",
       "      <td>2296.38</td>\n",
       "      <td>615.58</td>\n",
       "      <td>869.40</td>\n",
       "      <td>1127.14</td>\n",
       "      <td>1560.66</td>\n",
       "      <td>0.810101</td>\n",
       "      <td>0.478209</td>\n",
       "      <td>0.225010</td>\n",
       "      <td>0.375069</td>\n",
       "      <td>0.562525</td>\n",
       "      <td>0.536555</td>\n",
       "      <td>-0.185071</td>\n",
       "    </tr>\n",
       "  </tbody>\n",
       "</table>\n",
       "</div>"
      ],
      "text/plain": [
       "                                                         B8      B11      B12  \\\n",
       "geometry                                                                        \n",
       "{\"geodesic\":false,\"type\":\"Point\",\"coordinates\":...  2592.76  3597.02  2211.08   \n",
       "{\"geodesic\":false,\"type\":\"Point\",\"coordinates\":...  2693.46  3724.58  2340.06   \n",
       "{\"geodesic\":false,\"type\":\"Point\",\"coordinates\":...  2629.76  3620.94  2255.34   \n",
       "{\"geodesic\":false,\"type\":\"Point\",\"coordinates\":...  2753.80  3963.36  2566.10   \n",
       "{\"geodesic\":false,\"type\":\"Point\",\"coordinates\":...  2471.68  3624.88  2296.38   \n",
       "\n",
       "                                                        B2       B3       B4  \\\n",
       "geometry                                                                       \n",
       "{\"geodesic\":false,\"type\":\"Point\",\"coordinates\":...  565.82   831.26  1011.18   \n",
       "{\"geodesic\":false,\"type\":\"Point\",\"coordinates\":...  761.14  1010.96  1165.26   \n",
       "{\"geodesic\":false,\"type\":\"Point\",\"coordinates\":...  710.68   962.26  1115.38   \n",
       "{\"geodesic\":false,\"type\":\"Point\",\"coordinates\":...  788.38  1084.22  1356.28   \n",
       "{\"geodesic\":false,\"type\":\"Point\",\"coordinates\":...  615.58   869.40  1127.14   \n",
       "\n",
       "                                                         B5       EVI  \\\n",
       "geometry                                                                \n",
       "{\"geodesic\":false,\"type\":\"Point\",\"coordinates\":...  1459.94  0.977091   \n",
       "{\"geodesic\":false,\"type\":\"Point\",\"coordinates\":...  1671.14  0.873051   \n",
       "{\"geodesic\":false,\"type\":\"Point\",\"coordinates\":...  1593.10  0.833118   \n",
       "{\"geodesic\":false,\"type\":\"Point\",\"coordinates\":...  1840.86  0.621063   \n",
       "{\"geodesic\":false,\"type\":\"Point\",\"coordinates\":...  1560.66  0.810101   \n",
       "\n",
       "                                                       GNDVI      NDRE  \\\n",
       "geometry                                                                 \n",
       "{\"geodesic\":false,\"type\":\"Point\",\"coordinates\":...  0.511852  0.275444   \n",
       "{\"geodesic\":false,\"type\":\"Point\",\"coordinates\":...  0.489982  0.249000   \n",
       "{\"geodesic\":false,\"type\":\"Point\",\"coordinates\":...  0.490973  0.256016   \n",
       "{\"geodesic\":false,\"type\":\"Point\",\"coordinates\":...  0.461155  0.209325   \n",
       "{\"geodesic\":false,\"type\":\"Point\",\"coordinates\":...  0.478209  0.225010   \n",
       "\n",
       "                                                        NDVI      SAVI  \\\n",
       "geometry                                                                 \n",
       "{\"geodesic\":false,\"type\":\"Point\",\"coordinates\":...  0.434972  0.652367   \n",
       "{\"geodesic\":false,\"type\":\"Point\",\"coordinates\":...  0.423688  0.635443   \n",
       "{\"geodesic\":false,\"type\":\"Point\",\"coordinates\":...  0.424421  0.636541   \n",
       "{\"geodesic\":false,\"type\":\"Point\",\"coordinates\":...  0.357291  0.535867   \n",
       "{\"geodesic\":false,\"type\":\"Point\",\"coordinates\":...  0.375069  0.562525   \n",
       "\n",
       "                                                       MSAVI      NDMI  \n",
       "geometry                                                                \n",
       "{\"geodesic\":false,\"type\":\"Point\",\"coordinates\":...  0.597806 -0.162997  \n",
       "{\"geodesic\":false,\"type\":\"Point\",\"coordinates\":...  0.582853 -0.166965  \n",
       "{\"geodesic\":false,\"type\":\"Point\",\"coordinates\":...  0.584807 -0.163460  \n",
       "{\"geodesic\":false,\"type\":\"Point\",\"coordinates\":...  0.517407 -0.183240  \n",
       "{\"geodesic\":false,\"type\":\"Point\",\"coordinates\":...  0.536555 -0.185071  "
      ]
     },
     "execution_count": 84,
     "metadata": {},
     "output_type": "execute_result"
    }
   ],
   "source": [
    "aggs = {\n",
    "    'B8': 'mean',\n",
    "    'B11': 'mean', \n",
    "    'B12': 'mean',\n",
    "    'B2': 'mean', \n",
    "    'B3': 'mean',\n",
    "    'B4': 'mean', \n",
    "    'B5': 'mean',\n",
    "    'EVI': 'mean', \n",
    "    'GNDVI': 'mean',\n",
    "    'NDRE': 'mean', \n",
    "    'NDVI': 'mean', \n",
    "    'SAVI': 'mean',\n",
    "    'MSAVI': 'mean', \n",
    "    'NDMI': 'mean'\n",
    "}\n",
    "\n",
    "updated_df = modified_df.groupby('geometry').agg(aggs)\n",
    "updated_df.head()"
   ]
  },
  {
   "cell_type": "code",
   "execution_count": 85,
   "metadata": {},
   "outputs": [],
   "source": [
    "def infer_maize_growth_stage(row: pd.Series) -> str:\n",
    "    \"\"\"\n",
    "    Infres the growth stage of maize using a highly robust set of rules based on\n",
    "    all seven available vegetation indices (NDVI, NDRE, EVI, GNDVI, SAVI, NDMI, MSAVI).\n",
    "    \n",
    "    Args:\n",
    "        row (pd.Series): A row of data containing the time-series vegetation indices.\n",
    "        \n",
    "    Returns:\n",
    "        str: Inferred growth stage ('emergence', 'vegetative', 'reproductive', 'maturation', 'dormant').\n",
    "    \"\"\"\n",
    "    # Access all 7 indices, providing a default of 0 to prevent KeyError\n",
    "    ndvi = row.get('NDVI', 0)\n",
    "    ndre = row.get('NDRE', 0)\n",
    "    msavi = row.get('MSAVI', 0)\n",
    "    evi = row.get('EVI', 0)\n",
    "    gndvi = row.get('GNDVI', 0)\n",
    "    savi = row.get('SAVI', 0)\n",
    "    ndmi = row.get('NDMI', 0)\n",
    "    \n",
    "    # Use a small constant to prevent division by zero in ratios\n",
    "    EPSILON = 1e-9 \n",
    "    \n",
    "    # Ratio indicating loss of chlorophyll (NDRE drops faster than NDVI during decay)\n",
    "    red_edge_ratio = ndre / (ndvi + EPSILON) \n",
    "    \n",
    "    # 1. DORMANT / FALLOW (Before planting or after harvest)\n",
    "    if ndvi < 0.1 and evi < 0.1 and msavi < 0.1:\n",
    "        return 'dormant'\n",
    "\n",
    "    # 2. MATURATION / SENESCENCE (Decay begins)\n",
    "    if ndvi >= 0.4 and red_edge_ratio < 0.65 and gndvi < 0.55:\n",
    "        return 'maturation'\n",
    "\n",
    "    # 3. REPRODUCTIVE / PEAK VIGOR (Maximum canopy closure and health)\n",
    "    elif ndvi >= 0.75 and evi >= 0.6 and ndre >= 0.35 and gndvi >= 0.65:\n",
    "        # High confidence for peak biomass and photosynthetic activity\n",
    "        return 'reproductive'\n",
    "\n",
    "    # 4. VEGETATIVE (Rapid growth phase)\n",
    "    elif ndvi >= 0.5 and evi >= 0.4 and msavi >= 0.4:\n",
    "        return 'vegetative'\n",
    "\n",
    "    # 5. EMERGENCE / EARLY VEGETATIVE (Establishment)\n",
    "    elif ndvi > 0.1 and msavi < 0.4 and ndre < 0.2 and savi < 0.4:\n",
    "        return 'emergence'\n",
    "\n",
    "    else:\n",
    "        # Fallback for highly stressed or anomalous data points\n",
    "        return 'uncertain_vegetative'\n"
   ]
  },
  {
   "cell_type": "code",
   "execution_count": 86,
   "metadata": {},
   "outputs": [],
   "source": [
    "def assess_maize_health(row: pd.Series, growth_stage: str) -> int:\n",
    "    \"\"\"\n",
    "    Assesses maize health (1: Healthy, 0: Unhealthy) based on domain-knowledge \n",
    "    thresholds for all seven vegetation indices, specific to the inferred growth stage.\n",
    "    \n",
    "    Args:\n",
    "        row (pd.Series): A row of time-series data containing the vegetation indices.\n",
    "        growth_stage (str): The inferred growth stage from 'infer_maize_growth_stage_refined'.\n",
    "    \n",
    "    Returns:\n",
    "        int: Health classification (1 = healthy, 0 = unhealthy).\n",
    "    \"\"\"\n",
    "    # Access all 7 indices, providing a default of 0\n",
    "    ndvi = row.get('NDVI', 0)\n",
    "    ndre = row.get('NDRE', 0)\n",
    "    msavi = row.get('MSAVI', 0)\n",
    "    ndmi = row.get('NDMI', 0)\n",
    "    evi = row.get('EVI', 0)\n",
    "    gndvi = row.get('GNDVI', 0)\n",
    "    savi = row.get('SAVI', 0)\n",
    "    \n",
    "    # --- Health Status Logic (0 = Unhealthy, 1 = Healthy) ---\n",
    "    \n",
    "    if growth_stage == 'dormant':\n",
    "        # Dormant phase is expected to be low vigor. Anomaly is high NDVI in this period.\n",
    "        if ndvi > 0.15:\n",
    "            return 0  # Unhealthy (Anomaly/Weeds)\n",
    "        return 1     \n",
    "\n",
    "    elif growth_stage == 'emergence':\n",
    "        # Critical phase: Is the crop established? MSAVI/SAVI must show initial ground cover.\n",
    "        if msavi < 0.15 or savi < 0.15 or ndmi < -0.1:\n",
    "            return 0  \n",
    "        return 1      \n",
    "\n",
    "    elif growth_stage == 'vegetative':\n",
    "        # Focus on the rate of growth and potential water stress (NDMI) and chlorophyll/structure (NDRE/EVI)\n",
    "        if ndvi < 0.45 or ndre < 0.2 or evi < 0.35 or gndvi < 0.4 or ndmi < 0.05:\n",
    "            return 0  \n",
    "        return 1      \n",
    "            \n",
    "    elif growth_stage == 'reproductive':\n",
    "        # Peak phase: Highest thresholds required across all metrics.\n",
    "        # Requires high NDVI (biomass), high EVI (structure), high NDRE (health), and acceptable NDMI (water).\n",
    "        if ndvi < 0.7 or evi < 0.55 or ndre < 0.35 or gndvi < 0.65 or ndmi < 0.15:\n",
    "            return 0  \n",
    "        return 1      \n",
    "            \n",
    "    elif growth_stage == 'maturation':\n",
    "        # Senescence phase: Look for premature collapse or anomalous high vigor with low health.\n",
    "        \n",
    "        # Scenario 1: Premature collapse (e.g., extreme drought/early harvest)\n",
    "        if ndvi < 0.3 or evi < 0.2:\n",
    "             return 0\n",
    "             \n",
    "        # Scenario 2: High biomass but low chlorophyll/health (disease or nutrient issue)\n",
    "        if (ndvi > 0.6 and ndre < 0.2) or (evi > 0.5 and gndvi < 0.3):\n",
    "            return 0  \n",
    "            \n",
    "        return 1       \n",
    "    \n",
    "    elif growth_stage == 'uncertain_vegetative':\n",
    "        # Conservative check for mid-season uncertainty. If vigor is clearly low, flag it.\n",
    "        if ndvi < 0.5 or evi < 0.4:\n",
    "            return 0  \n",
    "        return 1      \n",
    "    \n",
    "    # Default case (Unknown or unhandled growth_stage)\n",
    "    return 0 "
   ]
  },
  {
   "cell_type": "code",
   "execution_count": 87,
   "metadata": {},
   "outputs": [],
   "source": [
    "def process_maize_data(df: pd.DataFrame) -> pd.DataFrame:\n",
    "    \"\"\"\n",
    "    Processes the DataFrame to add growth stage and health classification.\n",
    "    \n",
    "    Args:\n",
    "        df (pd.DataFrame): Input DataFrame with vegetation indices.\n",
    "    \n",
    "    Returns:\n",
    "        pd.DataFrame: DataFrame with added 'inferred_stage' and 'health_status' columns.\n",
    "    \"\"\"\n",
    "    result_df = df.copy()\n",
    "    \n",
    "    # Step 1: Infer growth stage for each geometry/observation\n",
    "    result_df['inferred_stage'] = result_df.apply(infer_maize_growth_stage, axis=1)\n",
    "    \n",
    "    # Step 2: Assess health based on the inferred stage\n",
    "    result_df['health_status'] = result_df.apply(\n",
    "        lambda row: assess_maize_health(row, row['inferred_stage']), axis=1\n",
    "    )\n",
    "    \n",
    "    return result_df"
   ]
  },
  {
   "cell_type": "code",
   "execution_count": 88,
   "metadata": {},
   "outputs": [],
   "source": [
    "# Process the data\n",
    "classified_df = process_maize_data(updated_df)"
   ]
  },
  {
   "cell_type": "code",
   "execution_count": 89,
   "metadata": {},
   "outputs": [
    {
     "data": {
      "image/png": "[encoded data removed]",
      "text/plain": [
       "<Figure size 600x400 with 1 Axes>"
      ]
     },
     "metadata": {},
     "output_type": "display_data"
    }
   ],
   "source": [
    "plt.figure(figsize=(6, 4))\n",
    "sns.countplot(x=classified_df['health_status'], data=classified_df)\n",
    "plt.title('Distribution of Healthy vs. Unhealthy Fields')\n",
    "plt.xlabel('Health Label')\n",
    "plt.ylabel('Number of Fields')\n",
    "plt.xticks([1, 0], ['Healthy', 'Unhealthy'])\n",
    "plt.show()"
   ]
  },
  {
   "cell_type": "code",
   "execution_count": 90,
   "metadata": {},
   "outputs": [
    {
     "data": {
      "image/png": "[encoded data removed]",
      "text/plain": [
       "<Figure size 1000x600 with 1 Axes>"
      ]
     },
     "metadata": {},
     "output_type": "display_data"
    }
   ],
   "source": [
    "plt.figure(figsize=(10, 6))\n",
    "sns.boxplot(x=classified_df['health_status'], y=classified_df['NDVI'], data=classified_df)\n",
    "plt.title('Mean NDVI Distribution by Final Health Label')\n",
    "plt.xlabel('Health Label')\n",
    "plt.ylabel('Mean NDVI (Seasonal Average)')\n",
    "plt.xticks([1, 0], ['Healthy', 'Unhealthy'])\n",
    "plt.show()"
   ]
  },
  {
   "cell_type": "code",
   "execution_count": null,
   "metadata": {},
   "outputs": [
    {
     "ename": "",
     "evalue": "",
     "output_type": "error",
     "traceback": [
      "\u001b[1;31mRunning cells with 'Python 3.12.3' requires the ipykernel package.\n",
      "\u001b[1;31mInstall 'ipykernel' into the Python environment. \n",
      "\u001b[1;31mCommand: '/usr/bin/python3 -m pip install ipykernel -U --user --force-reinstall'"
     ]
    }
   ],
   "source": [
    "classified_df.to_csv('../../data/processed/classiied_maize_data.csv', index=False)\n"
   ]
  },
  {
   "cell_type": "code",
   "execution_count": null,
   "metadata": {},
   "outputs": [
    {
     "ename": "",
     "evalue": "",
     "output_type": "error",
     "traceback": [
      "\u001b[1;31mRunning cells with 'Python 3.12.3' requires the ipykernel package.\n",
      "\u001b[1;31mInstall 'ipykernel' into the Python environment. \n",
      "\u001b[1;31mCommand: '/usr/bin/python3 -m pip install ipykernel -U --user --force-reinstall'"
     ]
    }
   ],
   "source": [
    "classified_df"
   ]
  },
  {
   "cell_type": "code",
   "execution_count": null,
   "metadata": {},
   "outputs": [],
   "source": []
  }
 ],
 "metadata": {
  "kernelspec": {
   "display_name": "Python 3",
   "language": "python",
   "name": "python3"
  },
  "language_info": {
   "codemirror_mode": {
    "name": "ipython",
    "version": 3
   },
   "file_extension": ".py",
   "mimetype": "text/x-python",
   "name": "python",
   "nbconvert_exporter": "python",
   "pygments_lexer": "ipython3",
   "version": "3.12.3"
  }
 },
 "nbformat": 4,
 "nbformat_minor": 2
}
