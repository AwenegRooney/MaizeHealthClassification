{
 "cells": [
  {
   "cell_type": "code",
   "execution_count": 33,
   "id": "a48aa027",
   "metadata": {},
   "outputs": [],
   "source": [
    "import pandas as pd\n",
    "import numpy as np\n",
    "import matplotlib.pyplot as plt\n",
    "from sklearn.ensemble import RandomForestClassifier\n",
    "from sklearn.model_selection import train_test_split\n",
    "from sklearn.metrics import classification_report, confusion_matrix\n",
    "from sklearn.preprocessing import StandardScaler,OneHotEncoder\n",
    "import joblib"
   ]
  },
  {
   "cell_type": "code",
   "execution_count": 34,
   "id": "09a32dab",
   "metadata": {},
   "outputs": [
    {
     "name": "stdout",
     "output_type": "stream",
     "text": [
      "NaNs after conversion (per column):\n",
      "Series([], dtype: int64)\n"
     ]
    }
   ],
   "source": [
    "data_set = pd.read_csv('../data/processed/classified_maize_data.csv')\n",
    "target_col = 'health_status'\n",
    "cat_col = 'inferred_stage'\n",
    "numeric_cols = [c for c in data_set.columns if c not in [target_col, cat_col]]\n",
    "for c in numeric_cols:\n",
    "    if data_set[c].dtype == object:\n",
    "        data_set[c] = data_set[c].astype(str).str.replace(',', '', regex=False).str.replace('%', '', regex=False).str.strip()\n",
    "    data_set[c] = pd.to_numeric(data_set[c], errors='coerce')\n",
    "nan_counts = data_set[numeric_cols].isna().sum()\n",
    "print('NaNs after conversion (per column):')\n",
    "print(nan_counts[nan_counts > 0])\n",
    "for c in numeric_cols:\n",
    "    if data_set[c].isna().any():\n",
    "        data_set[c].fillna(data_set[c].median(), inplace=True)\n",
    "if cat_col in data_set.columns:\n",
    "    data_set[cat_col] = data_set[cat_col].astype(str).fillna('unknown').str.strip()\n",
    "    ohe = OneHotEncoder(sparse_output=False, handle_unknown='ignore')\n",
    "    ohe_arr = ohe.fit_transform(data_set[[cat_col]])\n",
    "    ohe_cols = [f'{cat_col}__' + str(v) for v in ohe.categories_[0]]\n",
    "    ohe_df = pd.DataFrame(ohe_arr, columns=ohe_cols, index=data_set.index)\n",
    "    # drop original categorical column and append the one-hot columns\n",
    "    data_set = pd.concat([data_set.drop(columns=[cat_col]), ohe_df], axis=1)\n",
    "\n"
   ]
  },
  {
   "cell_type": "code",
   "execution_count": 35,
   "id": "84323924",
   "metadata": {},
   "outputs": [
    {
     "data": {
      "text/plain": [
       "0.9925925925925926"
      ]
     },
     "execution_count": 35,
     "metadata": {},
     "output_type": "execute_result"
    }
   ],
   "source": [
    "model = RandomForestClassifier(n_estimators=100, random_state=42)\n",
    "x =data_set.drop('health_status', axis=1)\n",
    "y = data_set['health_status']\n",
    "x_train, x_test, y_train, y_test = train_test_split(x, y, test_size=0.2, random_state=42)\n",
    "model.fit(x_train, y_train)\n",
    "model.score(x_test, y_test)\n",
    "\n"
   ]
  },
  {
   "cell_type": "code",
   "execution_count": 36,
   "id": "3c0be8be",
   "metadata": {},
   "outputs": [
    {
     "name": "stdout",
     "output_type": "stream",
     "text": [
      "              precision    recall  f1-score   support\n",
      "\n",
      "           0       1.00      0.97      0.98        61\n",
      "           1       0.99      1.00      1.00       209\n",
      "\n",
      "    accuracy                           0.99       270\n",
      "   macro avg       1.00      0.98      0.99       270\n",
      "weighted avg       0.99      0.99      0.99       270\n",
      "\n"
     ]
    }
   ],
   "source": [
    "y_pred = model.predict(x_test)\n",
    "print(classification_report(y_test, y_pred))"
   ]
  },
  {
   "cell_type": "code",
   "execution_count": 37,
   "id": "091688ee",
   "metadata": {},
   "outputs": [
    {
     "data": {
      "image/png": "[encoded data removed]",
      "text/plain": [
       "<Figure size 800x600 with 2 Axes>"
      ]
     },
     "metadata": {},
     "output_type": "display_data"
    }
   ],
   "source": [
    "cm = confusion_matrix(y_test, y_pred)\n",
    "plt.figure(figsize=(8, 6))\n",
    "plt.imshow(cm, interpolation='nearest', cmap=plt.cm.Blues)\n",
    "plt.title('Confusion Matrix')\n",
    "plt.colorbar()\n",
    "tick_marks = np.arange(len(model.classes_))\n",
    "plt.xticks(tick_marks, model.classes_, rotation=45)\n",
    "plt.yticks(tick_marks, model.classes_)\n",
    "plt.xlabel('Predicted Label')\n",
    "plt.ylabel('True Label')\n",
    "plt.tight_layout()"
   ]
  },
  {
   "cell_type": "code",
   "execution_count": 38,
   "id": "ac1abac9",
   "metadata": {},
   "outputs": [
    {
     "data": {
      "text/plain": [
       "['../model/maize_health_model.joblib']"
      ]
     },
     "execution_count": 38,
     "metadata": {},
     "output_type": "execute_result"
    }
   ],
   "source": [
    "joblib.dump(model, '../model/maize_health_model.joblib')\n",
    "\n"
   ]
  },
  {
   "cell_type": "code",
   "execution_count": null,
   "id": "d6c86edc",
   "metadata": {},
   "outputs": [],
   "source": [
    "    "
   ]
  }
 ],
 "metadata": {
  "kernelspec": {
   "display_name": "agricvenv",
   "language": "python",
   "name": "python3"
  },
  "language_info": {
   "codemirror_mode": {
    "name": "ipython",
    "version": 3
   },
   "file_extension": ".py",
   "mimetype": "text/x-python",
   "name": "python",
   "nbconvert_exporter": "python",
   "pygments_lexer": "ipython3",
   "version": "3.12.3"
  }
 },
 "nbformat": 4,
 "nbformat_minor": 5
}
